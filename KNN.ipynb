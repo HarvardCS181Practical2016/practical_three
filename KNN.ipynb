{
 "cells": [
  {
   "cell_type": "code",
   "execution_count": 1,
   "metadata": {
    "collapsed": true
   },
   "outputs": [],
   "source": [
    "import numpy as np\n",
    "import csv\n",
    "import time\n",
    "from sklearn.neighbors import NearestNeighbors"
   ]
  },
  {
   "cell_type": "code",
   "execution_count": 2,
   "metadata": {
    "collapsed": true
   },
   "outputs": [],
   "source": [
    "st = time.time()\n",
    "\n",
    "train_file = 'train.csv'\n",
    "test_file  = 'test.csv'\n",
    "soln_file  = 'user_medianNN20.csv'\n",
    "profiles_file = 'profiles.csv'\n",
    "artists_file = 'artists.csv'"
   ]
  },
  {
   "cell_type": "code",
   "execution_count": 3,
   "metadata": {
    "collapsed": true
   },
   "outputs": [],
   "source": [
    "# Load list of users\n",
    "users = []\n",
    "with open(profiles_file, 'r') as profiles_fh:\n",
    "    profiles_csv = csv.reader(profiles_fh, delimiter=',', quotechar='\"')\n",
    "    next(profiles_csv, None)\n",
    "    for row in profiles_csv:\n",
    "        user = row[0]\n",
    "        users.append(user)"
   ]
  },
  {
   "cell_type": "code",
   "execution_count": 4,
   "metadata": {
    "collapsed": true
   },
   "outputs": [],
   "source": [
    "# Load list of artists\n",
    "artists = []\n",
    "with open(artists_file, 'r') as profiles_fh:\n",
    "    artists_csv = csv.reader(profiles_fh, delimiter=',', quotechar='\"')\n",
    "    next(artists_csv, None)\n",
    "    for row in artists_csv:\n",
    "        artist = row[0]\n",
    "        artists.append(artist)\n"
   ]
  },
  {
   "cell_type": "code",
   "execution_count": 5,
   "metadata": {
    "collapsed": false
   },
   "outputs": [
    {
     "name": "stdout",
     "output_type": "stream",
     "text": [
      "Time to load 36\n"
     ]
    }
   ],
   "source": [
    "# Load the training data.\n",
    "train_data = {}\n",
    "with open(train_file, 'r') as train_fh:\n",
    "    train_csv = csv.reader(train_fh, delimiter=',', quotechar='\"')\n",
    "    next(train_csv, None)\n",
    "    for row in train_csv:\n",
    "        user   = row[0]\n",
    "        artist = row[1]\n",
    "        plays  = row[2]\n",
    "\n",
    "        if not user in train_data:\n",
    "            train_data[user] = {}\n",
    "\n",
    "        train_data[user][artist] = int(plays)\n",
    "\n",
    "end = time.time()\n",
    "print 'Time to load %d' % (end -st)"
   ]
  },
  {
   "cell_type": "code",
   "execution_count": 6,
   "metadata": {
    "collapsed": true
   },
   "outputs": [],
   "source": [
    "# Compute the global median and per-user median.\n",
    "plays_array  = []\n",
    "user_medians = {}\n",
    "for user, user_data in train_data.iteritems():\n",
    "    user_plays = []\n",
    "    for artist, plays in user_data.iteritems():\n",
    "        plays_array.append(plays)\n",
    "        user_plays.append(plays)\n",
    "\n",
    "    user_medians[user] = np.median(np.array(user_plays))\n",
    "global_median = np.median(np.array(plays_array))"
   ]
  },
  {
   "cell_type": "code",
   "execution_count": 7,
   "metadata": {
    "collapsed": true
   },
   "outputs": [],
   "source": [
    "def get_user_plays(user, artist):\n",
    "    if user in train_data:\n",
    "        for a, p in train_data[user].iteritems():\n",
    "            if artist == a:\n",
    "                return p\n",
    "    return 0.0"
   ]
  },
  {
   "cell_type": "code",
   "execution_count": 8,
   "metadata": {
    "collapsed": false
   },
   "outputs": [
    {
     "name": "stdout",
     "output_type": "stream",
     "text": [
      "0\n",
      "10000\n",
      "20000\n",
      "30000\n",
      "40000\n",
      "50000\n",
      "60000\n",
      "70000\n",
      "80000\n",
      "90000\n",
      "100000\n",
      "110000\n",
      "120000\n",
      "130000\n",
      "140000\n",
      "150000\n",
      "160000\n",
      "170000\n",
      "180000\n",
      "190000\n",
      "200000\n",
      "210000\n",
      "220000\n",
      "230000\n"
     ]
    }
   ],
   "source": [
    "# compute X\n",
    "X = np.zeros((len(users), len(artist)))\n",
    "\n",
    "for i in range(len(users)):\n",
    "    for j in range(len(artist)):\n",
    "        X[i][j] = get_user_plays(users[i], artists[j])\n",
    "    if i % 10000 == 0:\n",
    "        print i"
   ]
  },
  {
   "cell_type": "code",
   "execution_count": 10,
   "metadata": {
    "collapsed": false
   },
   "outputs": [
    {
     "name": "stdout",
     "output_type": "stream",
     "text": [
      "Running NearestNeighbors.fit ... \n",
      "Time to compute fit KNN 503\n"
     ]
    }
   ],
   "source": [
    "print 'Running NearestNeighbors.fit ... '\n",
    "st = time.time()\n",
    "neigh = NearestNeighbors(n_neighbors=20)\n",
    "neigh.fit(X)\n",
    "end = time.time()\n",
    "\n",
    "print 'Time to compute fit KNN %d' % (end -st)"
   ]
  },
  {
   "cell_type": "code",
   "execution_count": 11,
   "metadata": {
    "collapsed": true
   },
   "outputs": [],
   "source": [
    "def nearest_neighbors(user):\n",
    "    return neigh.kneighbors(user, return_distance=False)\n",
    "\n",
    "\n",
    "def user_index(user):\n",
    "    try:\n",
    "        return users.index(user)\n",
    "    except ValueError:\n",
    "        return None"
   ]
  },
  {
   "cell_type": "code",
   "execution_count": 13,
   "metadata": {
    "collapsed": true
   },
   "outputs": [],
   "source": [
    "# returns recommendation for a particular user as mean recommendation of its closest neighbors\n",
    "def get_recommendations(user):\n",
    "    user_id = user_index(user)\n",
    "    if user_id is None:\n",
    "        return global_median\n",
    "\n",
    "    x = X[user_id]\n",
    "    neighbors = nearest_neighbors(x)[0]\n",
    "    if neighbors is not None:\n",
    "        # recco = 0.\n",
    "        reccos = []\n",
    "        for neighbor in neighbors:\n",
    "            if users[neighbor] in user_medians:\n",
    "                r = user_medians[users[neighbor]]\n",
    "                reccos.append(r)\n",
    "                # recco += r\n",
    "            else:\n",
    "                reccos.append(global_median)\n",
    "                # recco += global_median\n",
    "        # final = recco / len(neighbors)\n",
    "        final = np.median(np.array(reccos))\n",
    "        return final\n",
    "\n",
    "    return global_median"
   ]
  },
  {
   "cell_type": "code",
   "execution_count": 14,
   "metadata": {
    "collapsed": false
   },
   "outputs": [
    {
     "name": "stdout",
     "output_type": "stream",
     "text": [
      "1000 ['1000', '230404d6297b84b390b982473ead2fb06b2297ea', '2c1828a2-e46b-4ade-a6e9-065ca265d679']\n",
      "2000 ['2000', 'cc0083cc31d8e82889c353ba960c841e1e1b9711', '3caf69c1-fdd8-44bc-b0a5-8af3ad8a47cd']\n",
      "3000 ['3000', 'f47ec03fca0651b38a60793c93e7cca0a267c96a', '9a58fda3-f4ed-4080-a3a5-f457aac9fcdd']\n",
      "4000 ['4000', '9ddec22b7ce2e88f48170f30d32c7b6d93108754', '78e46ae5-9bfd-433b-be3f-19e993d67ecc']\n",
      "5000 ['5000', 'c73e3d1bc128fb8380858e185adeb2978bd8408a', 'f96de591-5dae-41da-855b-eb387d88d7d4']\n",
      "6000 ['6000', '27b97869f66866ffa2a8671534a5fbbaff40247f', 'e938a15c-b17e-4e7a-9f68-ff0d536cab44']\n",
      "7000 ['7000', '8d1128586e127d244782666ef05b1bfb2348fbe9', 'ac2d1c91-3667-46aa-9fe7-170ca7fce9e2']\n",
      "8000 ['8000', '6aff085e3027ae8f64a4dd0818f1f98a001f50a3', 'af37c51c-0790-4a29-b995-456f98a6b8c9']\n",
      "9000 ['9000', '561f338040dea5b2b1a727efe9459c0b154e455d', '4e0dffde-ad2d-45b7-9c75-d57ce55de061']\n",
      "10000 ['10000', 'd76f9eb0cdfbade3376a1ed0d8b304448c9bd00c', 'daa09819-5da5-4c7a-8bef-eb372bb27ff1']\n",
      "11000 ['11000', 'b8597da39f908cf7882f11fd1e8e603a8db78149', '14962b84-c46a-490b-b6a0-ee69c78b2291']\n",
      "12000 ['12000', '113b2d3ca9643bedd08cd0ab02f36e09c025b611', 'aa7a2827-f74b-473c-bd79-03d065835cf7']\n",
      "13000 ['13000', '0f05e1de3503c89ebe7628f4ab8c84f454aeb97d', '2ce02909-598b-44ef-a456-151ba0a3bd70']\n",
      "14000 ['14000', 'aff550233eb3875cc644b839e6b9b27d9c24cafd', '6e9ac29b-798c-4af7-8d9e-55cdc72a999c']\n",
      "15000 ['15000', 'a9c83c8ba2230d87c81396881a12e898e2fa5773', '516cef4d-0718-4007-9939-f9b38af3f784']\n",
      "16000 ['16000', 'a59def065bb1798eda50de84e2f491a01d656ee0', '611700cf-27f0-4dc9-ae80-c513a767853e']\n",
      "17000 ['17000', '7323fb1f6077e5f3697cb52745d7879eafb50d69', 'f4857fb9-e255-4dc6-bd01-e4ca7cc68544']\n",
      "18000 ['18000', '5d05cad9bb84397dcb890a9c55fb0a1a27fa850c', 'a49b5d41-7399-49ef-bcb8-a5779a30d2e9']\n"
     ]
    },
    {
     "ename": "KeyboardInterrupt",
     "evalue": "",
     "output_type": "error",
     "traceback": [
      "\u001b[0;31m---------------------------------------------------------------------------\u001b[0m",
      "\u001b[0;31mKeyboardInterrupt\u001b[0m                         Traceback (most recent call last)",
      "\u001b[0;32m<ipython-input-14-f3fc62d4b5f8>\u001b[0m in \u001b[0;36m<module>\u001b[0;34m()\u001b[0m\n\u001b[1;32m     22\u001b[0m \u001b[0;34m\u001b[0m\u001b[0m\n\u001b[1;32m     23\u001b[0m             \u001b[0;32mif\u001b[0m \u001b[0muser\u001b[0m \u001b[0;32min\u001b[0m \u001b[0muser_medians\u001b[0m\u001b[0;34m:\u001b[0m\u001b[0;34m\u001b[0m\u001b[0m\n\u001b[0;32m---> 24\u001b[0;31m                 \u001b[0msoln_csv\u001b[0m\u001b[0;34m.\u001b[0m\u001b[0mwriterow\u001b[0m\u001b[0;34m(\u001b[0m\u001b[0;34m[\u001b[0m\u001b[0mid\u001b[0m\u001b[0;34m,\u001b[0m \u001b[0mget_recommendations\u001b[0m\u001b[0;34m(\u001b[0m\u001b[0muser\u001b[0m\u001b[0;34m)\u001b[0m\u001b[0;34m]\u001b[0m\u001b[0;34m)\u001b[0m\u001b[0;34m\u001b[0m\u001b[0m\n\u001b[0m\u001b[1;32m     25\u001b[0m                 \u001b[0;31m# soln_csv.writerow([id, topMatches(train_data, user, artist)])\u001b[0m\u001b[0;34m\u001b[0m\u001b[0;34m\u001b[0m\u001b[0m\n\u001b[1;32m     26\u001b[0m                 \u001b[0;31m# soln_csv.writerow([id, user_medians[user]])\u001b[0m\u001b[0;34m\u001b[0m\u001b[0;34m\u001b[0m\u001b[0m\n",
      "\u001b[0;32m<ipython-input-13-ec58e29802a6>\u001b[0m in \u001b[0;36mget_recommendations\u001b[0;34m(user)\u001b[0m\n\u001b[1;32m      6\u001b[0m \u001b[0;34m\u001b[0m\u001b[0m\n\u001b[1;32m      7\u001b[0m     \u001b[0mx\u001b[0m \u001b[0;34m=\u001b[0m \u001b[0mX\u001b[0m\u001b[0;34m[\u001b[0m\u001b[0muser_id\u001b[0m\u001b[0;34m]\u001b[0m\u001b[0;34m\u001b[0m\u001b[0m\n\u001b[0;32m----> 8\u001b[0;31m     \u001b[0mneighbors\u001b[0m \u001b[0;34m=\u001b[0m \u001b[0mnearest_neighbors\u001b[0m\u001b[0;34m(\u001b[0m\u001b[0mx\u001b[0m\u001b[0;34m)\u001b[0m\u001b[0;34m[\u001b[0m\u001b[0;36m0\u001b[0m\u001b[0;34m]\u001b[0m\u001b[0;34m\u001b[0m\u001b[0m\n\u001b[0m\u001b[1;32m      9\u001b[0m     \u001b[0;32mif\u001b[0m \u001b[0mneighbors\u001b[0m \u001b[0;32mis\u001b[0m \u001b[0;32mnot\u001b[0m \u001b[0mNone\u001b[0m\u001b[0;34m:\u001b[0m\u001b[0;34m\u001b[0m\u001b[0m\n\u001b[1;32m     10\u001b[0m         \u001b[0;31m# recco = 0.\u001b[0m\u001b[0;34m\u001b[0m\u001b[0;34m\u001b[0m\u001b[0m\n",
      "\u001b[0;32m<ipython-input-11-0a55000f199e>\u001b[0m in \u001b[0;36mnearest_neighbors\u001b[0;34m(user)\u001b[0m\n\u001b[1;32m      1\u001b[0m \u001b[0;32mdef\u001b[0m \u001b[0mnearest_neighbors\u001b[0m\u001b[0;34m(\u001b[0m\u001b[0muser\u001b[0m\u001b[0;34m)\u001b[0m\u001b[0;34m:\u001b[0m\u001b[0;34m\u001b[0m\u001b[0m\n\u001b[0;32m----> 2\u001b[0;31m     \u001b[0;32mreturn\u001b[0m \u001b[0mneigh\u001b[0m\u001b[0;34m.\u001b[0m\u001b[0mkneighbors\u001b[0m\u001b[0;34m(\u001b[0m\u001b[0muser\u001b[0m\u001b[0;34m,\u001b[0m \u001b[0mreturn_distance\u001b[0m\u001b[0;34m=\u001b[0m\u001b[0mFalse\u001b[0m\u001b[0;34m)\u001b[0m\u001b[0;34m\u001b[0m\u001b[0m\n\u001b[0m\u001b[1;32m      3\u001b[0m \u001b[0;34m\u001b[0m\u001b[0m\n\u001b[1;32m      4\u001b[0m \u001b[0;34m\u001b[0m\u001b[0m\n\u001b[1;32m      5\u001b[0m \u001b[0;32mdef\u001b[0m \u001b[0muser_index\u001b[0m\u001b[0;34m(\u001b[0m\u001b[0muser\u001b[0m\u001b[0;34m)\u001b[0m\u001b[0;34m:\u001b[0m\u001b[0;34m\u001b[0m\u001b[0m\n",
      "\u001b[0;32m/Users/robertjohnson/anaconda/lib/python2.7/site-packages/sklearn/neighbors/base.pyc\u001b[0m in \u001b[0;36mkneighbors\u001b[0;34m(self, X, n_neighbors, return_distance)\u001b[0m\n\u001b[1;32m    372\u001b[0m                     \"or set algorithm='brute'\" % self._fit_method)\n\u001b[1;32m    373\u001b[0m             result = self._tree.query(X, n_neighbors,\n\u001b[0;32m--> 374\u001b[0;31m                                       return_distance=return_distance)\n\u001b[0m\u001b[1;32m    375\u001b[0m         \u001b[0;32melse\u001b[0m\u001b[0;34m:\u001b[0m\u001b[0;34m\u001b[0m\u001b[0m\n\u001b[1;32m    376\u001b[0m             \u001b[0;32mraise\u001b[0m \u001b[0mValueError\u001b[0m\u001b[0;34m(\u001b[0m\u001b[0;34m\"internal: _fit_method not recognized\"\u001b[0m\u001b[0;34m)\u001b[0m\u001b[0;34m\u001b[0m\u001b[0m\n",
      "\u001b[0;31mKeyboardInterrupt\u001b[0m: "
     ]
    }
   ],
   "source": [
    "line = 0\n",
    "# Write out test solutions.\n",
    "with open(test_file, 'r') as test_fh:\n",
    "    test_csv = csv.reader(test_fh, delimiter=',', quotechar='\"')\n",
    "    next(test_csv, None)\n",
    "\n",
    "    with open(soln_file, 'w') as soln_fh:\n",
    "        soln_csv = csv.writer(soln_fh,\n",
    "                              delimiter=',',\n",
    "                              quotechar='\"',\n",
    "                              quoting=csv.QUOTE_MINIMAL)\n",
    "        soln_csv.writerow(['Id', 'plays'])\n",
    "\n",
    "        for row in test_csv:\n",
    "            line += 1\n",
    "            if line % 1000 == 0:\n",
    "                print line, row\n",
    "\n",
    "            id     = row[0]\n",
    "            user   = row[1]\n",
    "            artist = row[2]\n",
    "\n",
    "            if user in user_medians:\n",
    "                soln_csv.writerow([id, get_recommendations(user)])\n",
    "                # soln_csv.writerow([id, topMatches(train_data, user, artist)])\n",
    "                # soln_csv.writerow([id, user_medians[user]])\n",
    "                # print getRecommendations(train_data, user)[0]\n",
    "            else:\n",
    "                soln_csv.writerow([id, global_median])"
   ]
  },
  {
   "cell_type": "code",
   "execution_count": null,
   "metadata": {
    "collapsed": true
   },
   "outputs": [],
   "source": []
  }
 ],
 "metadata": {
  "kernelspec": {
   "display_name": "Python 2",
   "language": "python",
   "name": "python2"
  },
  "language_info": {
   "codemirror_mode": {
    "name": "ipython",
    "version": 2
   },
   "file_extension": ".py",
   "mimetype": "text/x-python",
   "name": "python",
   "nbconvert_exporter": "python",
   "pygments_lexer": "ipython2",
   "version": "2.7.11"
  }
 },
 "nbformat": 4,
 "nbformat_minor": 0
}
